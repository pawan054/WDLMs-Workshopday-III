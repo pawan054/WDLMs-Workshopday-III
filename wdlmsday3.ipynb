{
  "cells": [
    {
      "cell_type": "markdown",
      "metadata": {
        "id": "aa1ead0f"
      },
      "source": [
        "# Machine Learning Example"
      ],
      "id": "aa1ead0f"
    },
    {
      "cell_type": "markdown",
      "metadata": {
        "id": "8486f07d"
      },
      "source": [
        "###### ML is process of finding a mapping function by analysing the provided data with the help of ML algorithm and making final prediction baesd on that found mapping function."
      ],
      "id": "8486f07d"
    },
    {
      "cell_type": "markdown",
      "metadata": {
        "id": "df8263fc"
      },
      "source": [
        "## ML Steps\n",
        "1. Data construction\n",
        "2. Data Pre-processing (\n",
        "    i. analysis\n",
        "    ii. feature correlation\n",
        "    iii. feature selection\n",
        "    iv. feature scaling)\n",
        "3. Hyper-parameter Optimization\n",
        "4. Model tuning\n",
        "5. Model evaluation"
      ],
      "id": "df8263fc"
    },
    {
      "cell_type": "markdown",
      "metadata": {
        "id": "a31bcbdd"
      },
      "source": [
        "### Lets begin\n",
        "## Importing libraries"
      ],
      "id": "a31bcbdd"
    },
    {
      "cell_type": "code",
      "execution_count": 73,
      "metadata": {
        "id": "b223b2f0"
      },
      "outputs": [],
      "source": [
        "#Load necessary libraries\n",
        "import pandas as pd\n",
        "import numpy as np\n",
        "import matplotlib.pyplot as plt\n",
        "from sklearn.preprocessing import MinMaxScaler, StandardScaler\n",
        "from sklearn.model_selection import train_test_split\n",
        "from sklearn.linear_model import LinearRegression\n",
        "from sklearn import metrics\n",
        "from sklearn.metrics import mean_absolute_error, mean_squared_error, r2_score, make_scorer"
      ],
      "id": "b223b2f0"
    },
    {
      "cell_type": "markdown",
      "metadata": {
        "id": "4408944e"
      },
      "source": [
        "## Loading data"
      ],
      "id": "4408944e"
    },
    {
      "cell_type": "code",
      "execution_count": null,
      "metadata": {
        "id": "lRLKnWSLNFUw"
      },
      "outputs": [],
      "source": [
        "from google.colab import drive\n",
        "drive.mount('/content/gdrive')"
      ],
      "id": "lRLKnWSLNFUw"
    },
    {
      "cell_type": "code",
      "execution_count": null,
      "metadata": {
        "id": "Yki1-l67N54O"
      },
      "outputs": [],
      "source": [
        "xl_file = '/content/gdrive/My Drive/Colab Notebooks/Metal_hallide.xlsx'\n",
        "csv_file = '/content/gdrive/My Drive/Colab Notebooks/Metal_hallide_data.csv'\n",
        "data = pd.read_excel(xl_file)\n",
        "data.to_csv(csv_file, index = False)\n",
        "print(f'Conversion complete. Saved as {csv_file}')"
      ],
      "id": "Yki1-l67N54O"
    },
    {
      "cell_type": "code",
      "execution_count": null,
      "metadata": {
        "id": "3e2b2b28"
      },
      "outputs": [],
      "source": [
        "#This is not necessary in this case ie. for google colab\n",
        "#xl_file = 'half_heusler_data.xlsx'\n",
        "#csv_file = 'half_heusler_data.csv'\n",
        "#data = pd.read_excel(xl)\n",
        "#data.to_csv(csv_file,index=False)\n",
        "#print(f\"Excel file is sucessfully converted, Saved as {csv_file}\")"
      ],
      "id": "3e2b2b28"
    },
    {
      "cell_type": "code",
      "execution_count": 74,
      "metadata": {
        "id": "460a4595",
        "outputId": "6b19b188-41df-4740-fc5d-27e47b4078d4",
        "colab": {
          "base_uri": "https://localhost:8080/",
          "height": 424
        }
      },
      "outputs": [
        {
          "output_type": "execute_result",
          "data": {
            "text/plain": [
              "    Compound(xyz)  r x(Å)  ry(Å)  rz(Å)  a(Å)    ez\n",
              "0           CoMnP    0.90   0.96   0.80  5.34  2.19\n",
              "1           CoFeP    0.90   0.78   0.80  5.35  2.19\n",
              "2          CoMnSi    0.90   0.96   0.85  5.36  1.90\n",
              "3            CoVP    0.90   0.72   0.80  5.36  2.19\n",
              "4          CoCrSi    0.90   0.57   0.85  5.36  1.90\n",
              "..            ...     ...    ...    ...   ...   ...\n",
              "132        FeMnSi    0.78   0.96   0.85  5.32  1.90\n",
              "133          FeVP    0.78   0.72   0.80  5.31  2.19\n",
              "134         FeFeP    0.78   0.78   0.80  5.31  2.19\n",
              "135         MnCrP    0.96   0.57   0.80  5.30  2.19\n",
              "136         FeCrP    0.78   0.57   0.80  5.29  2.19\n",
              "\n",
              "[137 rows x 6 columns]"
            ],
            "text/html": [
              "\n",
              "  <div id=\"df-5a5b9604-d5a0-411f-b5f5-fedc2690e388\" class=\"colab-df-container\">\n",
              "    <div>\n",
              "<style scoped>\n",
              "    .dataframe tbody tr th:only-of-type {\n",
              "        vertical-align: middle;\n",
              "    }\n",
              "\n",
              "    .dataframe tbody tr th {\n",
              "        vertical-align: top;\n",
              "    }\n",
              "\n",
              "    .dataframe thead th {\n",
              "        text-align: right;\n",
              "    }\n",
              "</style>\n",
              "<table border=\"1\" class=\"dataframe\">\n",
              "  <thead>\n",
              "    <tr style=\"text-align: right;\">\n",
              "      <th></th>\n",
              "      <th>Compound(xyz)</th>\n",
              "      <th>r x(Å)</th>\n",
              "      <th>ry(Å)</th>\n",
              "      <th>rz(Å)</th>\n",
              "      <th>a(Å)</th>\n",
              "      <th>ez</th>\n",
              "    </tr>\n",
              "  </thead>\n",
              "  <tbody>\n",
              "    <tr>\n",
              "      <th>0</th>\n",
              "      <td>CoMnP</td>\n",
              "      <td>0.90</td>\n",
              "      <td>0.96</td>\n",
              "      <td>0.80</td>\n",
              "      <td>5.34</td>\n",
              "      <td>2.19</td>\n",
              "    </tr>\n",
              "    <tr>\n",
              "      <th>1</th>\n",
              "      <td>CoFeP</td>\n",
              "      <td>0.90</td>\n",
              "      <td>0.78</td>\n",
              "      <td>0.80</td>\n",
              "      <td>5.35</td>\n",
              "      <td>2.19</td>\n",
              "    </tr>\n",
              "    <tr>\n",
              "      <th>2</th>\n",
              "      <td>CoMnSi</td>\n",
              "      <td>0.90</td>\n",
              "      <td>0.96</td>\n",
              "      <td>0.85</td>\n",
              "      <td>5.36</td>\n",
              "      <td>1.90</td>\n",
              "    </tr>\n",
              "    <tr>\n",
              "      <th>3</th>\n",
              "      <td>CoVP</td>\n",
              "      <td>0.90</td>\n",
              "      <td>0.72</td>\n",
              "      <td>0.80</td>\n",
              "      <td>5.36</td>\n",
              "      <td>2.19</td>\n",
              "    </tr>\n",
              "    <tr>\n",
              "      <th>4</th>\n",
              "      <td>CoCrSi</td>\n",
              "      <td>0.90</td>\n",
              "      <td>0.57</td>\n",
              "      <td>0.85</td>\n",
              "      <td>5.36</td>\n",
              "      <td>1.90</td>\n",
              "    </tr>\n",
              "    <tr>\n",
              "      <th>...</th>\n",
              "      <td>...</td>\n",
              "      <td>...</td>\n",
              "      <td>...</td>\n",
              "      <td>...</td>\n",
              "      <td>...</td>\n",
              "      <td>...</td>\n",
              "    </tr>\n",
              "    <tr>\n",
              "      <th>132</th>\n",
              "      <td>FeMnSi</td>\n",
              "      <td>0.78</td>\n",
              "      <td>0.96</td>\n",
              "      <td>0.85</td>\n",
              "      <td>5.32</td>\n",
              "      <td>1.90</td>\n",
              "    </tr>\n",
              "    <tr>\n",
              "      <th>133</th>\n",
              "      <td>FeVP</td>\n",
              "      <td>0.78</td>\n",
              "      <td>0.72</td>\n",
              "      <td>0.80</td>\n",
              "      <td>5.31</td>\n",
              "      <td>2.19</td>\n",
              "    </tr>\n",
              "    <tr>\n",
              "      <th>134</th>\n",
              "      <td>FeFeP</td>\n",
              "      <td>0.78</td>\n",
              "      <td>0.78</td>\n",
              "      <td>0.80</td>\n",
              "      <td>5.31</td>\n",
              "      <td>2.19</td>\n",
              "    </tr>\n",
              "    <tr>\n",
              "      <th>135</th>\n",
              "      <td>MnCrP</td>\n",
              "      <td>0.96</td>\n",
              "      <td>0.57</td>\n",
              "      <td>0.80</td>\n",
              "      <td>5.30</td>\n",
              "      <td>2.19</td>\n",
              "    </tr>\n",
              "    <tr>\n",
              "      <th>136</th>\n",
              "      <td>FeCrP</td>\n",
              "      <td>0.78</td>\n",
              "      <td>0.57</td>\n",
              "      <td>0.80</td>\n",
              "      <td>5.29</td>\n",
              "      <td>2.19</td>\n",
              "    </tr>\n",
              "  </tbody>\n",
              "</table>\n",
              "<p>137 rows × 6 columns</p>\n",
              "</div>\n",
              "    <div class=\"colab-df-buttons\">\n",
              "\n",
              "  <div class=\"colab-df-container\">\n",
              "    <button class=\"colab-df-convert\" onclick=\"convertToInteractive('df-5a5b9604-d5a0-411f-b5f5-fedc2690e388')\"\n",
              "            title=\"Convert this dataframe to an interactive table.\"\n",
              "            style=\"display:none;\">\n",
              "\n",
              "  <svg xmlns=\"http://www.w3.org/2000/svg\" height=\"24px\" viewBox=\"0 -960 960 960\">\n",
              "    <path d=\"M120-120v-720h720v720H120Zm60-500h600v-160H180v160Zm220 220h160v-160H400v160Zm0 220h160v-160H400v160ZM180-400h160v-160H180v160Zm440 0h160v-160H620v160ZM180-180h160v-160H180v160Zm440 0h160v-160H620v160Z\"/>\n",
              "  </svg>\n",
              "    </button>\n",
              "\n",
              "  <style>\n",
              "    .colab-df-container {\n",
              "      display:flex;\n",
              "      gap: 12px;\n",
              "    }\n",
              "\n",
              "    .colab-df-convert {\n",
              "      background-color: #E8F0FE;\n",
              "      border: none;\n",
              "      border-radius: 50%;\n",
              "      cursor: pointer;\n",
              "      display: none;\n",
              "      fill: #1967D2;\n",
              "      height: 32px;\n",
              "      padding: 0 0 0 0;\n",
              "      width: 32px;\n",
              "    }\n",
              "\n",
              "    .colab-df-convert:hover {\n",
              "      background-color: #E2EBFA;\n",
              "      box-shadow: 0px 1px 2px rgba(60, 64, 67, 0.3), 0px 1px 3px 1px rgba(60, 64, 67, 0.15);\n",
              "      fill: #174EA6;\n",
              "    }\n",
              "\n",
              "    .colab-df-buttons div {\n",
              "      margin-bottom: 4px;\n",
              "    }\n",
              "\n",
              "    [theme=dark] .colab-df-convert {\n",
              "      background-color: #3B4455;\n",
              "      fill: #D2E3FC;\n",
              "    }\n",
              "\n",
              "    [theme=dark] .colab-df-convert:hover {\n",
              "      background-color: #434B5C;\n",
              "      box-shadow: 0px 1px 3px 1px rgba(0, 0, 0, 0.15);\n",
              "      filter: drop-shadow(0px 1px 2px rgba(0, 0, 0, 0.3));\n",
              "      fill: #FFFFFF;\n",
              "    }\n",
              "  </style>\n",
              "\n",
              "    <script>\n",
              "      const buttonEl =\n",
              "        document.querySelector('#df-5a5b9604-d5a0-411f-b5f5-fedc2690e388 button.colab-df-convert');\n",
              "      buttonEl.style.display =\n",
              "        google.colab.kernel.accessAllowed ? 'block' : 'none';\n",
              "\n",
              "      async function convertToInteractive(key) {\n",
              "        const element = document.querySelector('#df-5a5b9604-d5a0-411f-b5f5-fedc2690e388');\n",
              "        const dataTable =\n",
              "          await google.colab.kernel.invokeFunction('convertToInteractive',\n",
              "                                                    [key], {});\n",
              "        if (!dataTable) return;\n",
              "\n",
              "        const docLinkHtml = 'Like what you see? Visit the ' +\n",
              "          '<a target=\"_blank\" href=https://colab.research.google.com/notebooks/data_table.ipynb>data table notebook</a>'\n",
              "          + ' to learn more about interactive tables.';\n",
              "        element.innerHTML = '';\n",
              "        dataTable['output_type'] = 'display_data';\n",
              "        await google.colab.output.renderOutput(dataTable, element);\n",
              "        const docLink = document.createElement('div');\n",
              "        docLink.innerHTML = docLinkHtml;\n",
              "        element.appendChild(docLink);\n",
              "      }\n",
              "    </script>\n",
              "  </div>\n",
              "\n",
              "\n",
              "<div id=\"df-c119a362-5958-4196-a178-f29bc521465d\">\n",
              "  <button class=\"colab-df-quickchart\" onclick=\"quickchart('df-c119a362-5958-4196-a178-f29bc521465d')\"\n",
              "            title=\"Suggest charts\"\n",
              "            style=\"display:none;\">\n",
              "\n",
              "<svg xmlns=\"http://www.w3.org/2000/svg\" height=\"24px\"viewBox=\"0 0 24 24\"\n",
              "     width=\"24px\">\n",
              "    <g>\n",
              "        <path d=\"M19 3H5c-1.1 0-2 .9-2 2v14c0 1.1.9 2 2 2h14c1.1 0 2-.9 2-2V5c0-1.1-.9-2-2-2zM9 17H7v-7h2v7zm4 0h-2V7h2v10zm4 0h-2v-4h2v4z\"/>\n",
              "    </g>\n",
              "</svg>\n",
              "  </button>\n",
              "\n",
              "<style>\n",
              "  .colab-df-quickchart {\n",
              "      --bg-color: #E8F0FE;\n",
              "      --fill-color: #1967D2;\n",
              "      --hover-bg-color: #E2EBFA;\n",
              "      --hover-fill-color: #174EA6;\n",
              "      --disabled-fill-color: #AAA;\n",
              "      --disabled-bg-color: #DDD;\n",
              "  }\n",
              "\n",
              "  [theme=dark] .colab-df-quickchart {\n",
              "      --bg-color: #3B4455;\n",
              "      --fill-color: #D2E3FC;\n",
              "      --hover-bg-color: #434B5C;\n",
              "      --hover-fill-color: #FFFFFF;\n",
              "      --disabled-bg-color: #3B4455;\n",
              "      --disabled-fill-color: #666;\n",
              "  }\n",
              "\n",
              "  .colab-df-quickchart {\n",
              "    background-color: var(--bg-color);\n",
              "    border: none;\n",
              "    border-radius: 50%;\n",
              "    cursor: pointer;\n",
              "    display: none;\n",
              "    fill: var(--fill-color);\n",
              "    height: 32px;\n",
              "    padding: 0;\n",
              "    width: 32px;\n",
              "  }\n",
              "\n",
              "  .colab-df-quickchart:hover {\n",
              "    background-color: var(--hover-bg-color);\n",
              "    box-shadow: 0 1px 2px rgba(60, 64, 67, 0.3), 0 1px 3px 1px rgba(60, 64, 67, 0.15);\n",
              "    fill: var(--button-hover-fill-color);\n",
              "  }\n",
              "\n",
              "  .colab-df-quickchart-complete:disabled,\n",
              "  .colab-df-quickchart-complete:disabled:hover {\n",
              "    background-color: var(--disabled-bg-color);\n",
              "    fill: var(--disabled-fill-color);\n",
              "    box-shadow: none;\n",
              "  }\n",
              "\n",
              "  .colab-df-spinner {\n",
              "    border: 2px solid var(--fill-color);\n",
              "    border-color: transparent;\n",
              "    border-bottom-color: var(--fill-color);\n",
              "    animation:\n",
              "      spin 1s steps(1) infinite;\n",
              "  }\n",
              "\n",
              "  @keyframes spin {\n",
              "    0% {\n",
              "      border-color: transparent;\n",
              "      border-bottom-color: var(--fill-color);\n",
              "      border-left-color: var(--fill-color);\n",
              "    }\n",
              "    20% {\n",
              "      border-color: transparent;\n",
              "      border-left-color: var(--fill-color);\n",
              "      border-top-color: var(--fill-color);\n",
              "    }\n",
              "    30% {\n",
              "      border-color: transparent;\n",
              "      border-left-color: var(--fill-color);\n",
              "      border-top-color: var(--fill-color);\n",
              "      border-right-color: var(--fill-color);\n",
              "    }\n",
              "    40% {\n",
              "      border-color: transparent;\n",
              "      border-right-color: var(--fill-color);\n",
              "      border-top-color: var(--fill-color);\n",
              "    }\n",
              "    60% {\n",
              "      border-color: transparent;\n",
              "      border-right-color: var(--fill-color);\n",
              "    }\n",
              "    80% {\n",
              "      border-color: transparent;\n",
              "      border-right-color: var(--fill-color);\n",
              "      border-bottom-color: var(--fill-color);\n",
              "    }\n",
              "    90% {\n",
              "      border-color: transparent;\n",
              "      border-bottom-color: var(--fill-color);\n",
              "    }\n",
              "  }\n",
              "</style>\n",
              "\n",
              "  <script>\n",
              "    async function quickchart(key) {\n",
              "      const quickchartButtonEl =\n",
              "        document.querySelector('#' + key + ' button');\n",
              "      quickchartButtonEl.disabled = true;  // To prevent multiple clicks.\n",
              "      quickchartButtonEl.classList.add('colab-df-spinner');\n",
              "      try {\n",
              "        const charts = await google.colab.kernel.invokeFunction(\n",
              "            'suggestCharts', [key], {});\n",
              "      } catch (error) {\n",
              "        console.error('Error during call to suggestCharts:', error);\n",
              "      }\n",
              "      quickchartButtonEl.classList.remove('colab-df-spinner');\n",
              "      quickchartButtonEl.classList.add('colab-df-quickchart-complete');\n",
              "    }\n",
              "    (() => {\n",
              "      let quickchartButtonEl =\n",
              "        document.querySelector('#df-c119a362-5958-4196-a178-f29bc521465d button');\n",
              "      quickchartButtonEl.style.display =\n",
              "        google.colab.kernel.accessAllowed ? 'block' : 'none';\n",
              "    })();\n",
              "  </script>\n",
              "</div>\n",
              "\n",
              "  <div id=\"id_d241da08-ccc5-4a7f-ac71-aee4067c6f8b\">\n",
              "    <style>\n",
              "      .colab-df-generate {\n",
              "        background-color: #E8F0FE;\n",
              "        border: none;\n",
              "        border-radius: 50%;\n",
              "        cursor: pointer;\n",
              "        display: none;\n",
              "        fill: #1967D2;\n",
              "        height: 32px;\n",
              "        padding: 0 0 0 0;\n",
              "        width: 32px;\n",
              "      }\n",
              "\n",
              "      .colab-df-generate:hover {\n",
              "        background-color: #E2EBFA;\n",
              "        box-shadow: 0px 1px 2px rgba(60, 64, 67, 0.3), 0px 1px 3px 1px rgba(60, 64, 67, 0.15);\n",
              "        fill: #174EA6;\n",
              "      }\n",
              "\n",
              "      [theme=dark] .colab-df-generate {\n",
              "        background-color: #3B4455;\n",
              "        fill: #D2E3FC;\n",
              "      }\n",
              "\n",
              "      [theme=dark] .colab-df-generate:hover {\n",
              "        background-color: #434B5C;\n",
              "        box-shadow: 0px 1px 3px 1px rgba(0, 0, 0, 0.15);\n",
              "        filter: drop-shadow(0px 1px 2px rgba(0, 0, 0, 0.3));\n",
              "        fill: #FFFFFF;\n",
              "      }\n",
              "    </style>\n",
              "    <button class=\"colab-df-generate\" onclick=\"generateWithVariable('data')\"\n",
              "            title=\"Generate code using this dataframe.\"\n",
              "            style=\"display:none;\">\n",
              "\n",
              "  <svg xmlns=\"http://www.w3.org/2000/svg\" height=\"24px\"viewBox=\"0 0 24 24\"\n",
              "       width=\"24px\">\n",
              "    <path d=\"M7,19H8.4L18.45,9,17,7.55,7,17.6ZM5,21V16.75L18.45,3.32a2,2,0,0,1,2.83,0l1.4,1.43a1.91,1.91,0,0,1,.58,1.4,1.91,1.91,0,0,1-.58,1.4L9.25,21ZM18.45,9,17,7.55Zm-12,3A5.31,5.31,0,0,0,4.9,8.1,5.31,5.31,0,0,0,1,6.5,5.31,5.31,0,0,0,4.9,4.9,5.31,5.31,0,0,0,6.5,1,5.31,5.31,0,0,0,8.1,4.9,5.31,5.31,0,0,0,12,6.5,5.46,5.46,0,0,0,6.5,12Z\"/>\n",
              "  </svg>\n",
              "    </button>\n",
              "    <script>\n",
              "      (() => {\n",
              "      const buttonEl =\n",
              "        document.querySelector('#id_d241da08-ccc5-4a7f-ac71-aee4067c6f8b button.colab-df-generate');\n",
              "      buttonEl.style.display =\n",
              "        google.colab.kernel.accessAllowed ? 'block' : 'none';\n",
              "\n",
              "      buttonEl.onclick = () => {\n",
              "        google.colab.notebook.generateWithVariable('data');\n",
              "      }\n",
              "      })();\n",
              "    </script>\n",
              "  </div>\n",
              "\n",
              "    </div>\n",
              "  </div>\n"
            ]
          },
          "metadata": {},
          "execution_count": 74
        }
      ],
      "source": [
        "#uploading converted csv_file\n",
        "data = pd.read_csv(csv_file)\n",
        "data"
      ],
      "id": "460a4595"
    },
    {
      "cell_type": "markdown",
      "metadata": {
        "id": "f48636e1"
      },
      "source": [
        "## Data Preprocessing\n",
        "  \n",
        "      Analysing and handling missing data\n",
        "      Data visualization, removing outliers\n",
        "      Encoding catagorical values\n",
        "      Feature scaling\n",
        "      Feature engineering\n"
      ],
      "id": "f48636e1"
    },
    {
      "cell_type": "code",
      "execution_count": null,
      "metadata": {
        "id": "6d1de140"
      },
      "outputs": [],
      "source": [
        "#data range\n",
        "data.index"
      ],
      "id": "6d1de140"
    },
    {
      "cell_type": "code",
      "execution_count": 75,
      "metadata": {
        "id": "612683f8",
        "outputId": "c7cec43d-1167-4106-c2cd-f506af22303b",
        "colab": {
          "base_uri": "https://localhost:8080/"
        }
      },
      "outputs": [
        {
          "output_type": "stream",
          "name": "stdout",
          "text": [
            "<class 'pandas.core.frame.DataFrame'>\n",
            "RangeIndex: 137 entries, 0 to 136\n",
            "Data columns (total 6 columns):\n",
            " #   Column         Non-Null Count  Dtype  \n",
            "---  ------         --------------  -----  \n",
            " 0   Compound(xyz)  137 non-null    object \n",
            " 1   r x(Å)         137 non-null    float64\n",
            " 2   ry(Å)          137 non-null    float64\n",
            " 3   rz(Å)          137 non-null    float64\n",
            " 4   a(Å)           137 non-null    float64\n",
            " 5   ez             137 non-null    float64\n",
            "dtypes: float64(5), object(1)\n",
            "memory usage: 6.5+ KB\n"
          ]
        }
      ],
      "source": [
        "#to know about data types\n",
        "data.info()\n",
        "#data.dtypes"
      ],
      "id": "612683f8"
    },
    {
      "cell_type": "code",
      "execution_count": null,
      "metadata": {
        "id": "5dc77ddf"
      },
      "outputs": [],
      "source": [
        "data.isnull().sum(axis=0)"
      ],
      "id": "5dc77ddf"
    },
    {
      "cell_type": "code",
      "execution_count": null,
      "metadata": {
        "colab": {
          "background_save": true
        },
        "id": "d1e0e94a"
      },
      "outputs": [],
      "source": [
        "#knowing the vaccant row or column in data\n",
        "#data.isnull().sum()\n",
        "data.isnull().sum(axis=0) #along rows for each column\n",
        "#data.isnull().sum(axis=1)#along columns for each row"
      ],
      "id": "d1e0e94a"
    },
    {
      "cell_type": "code",
      "execution_count": null,
      "metadata": {
        "id": "8989f3c7"
      },
      "outputs": [],
      "source": [
        "#Finding along columns\n",
        "null_columns = data.columns[data.isnull().any()]\n",
        "print(null_columns)"
      ],
      "id": "8989f3c7"
    },
    {
      "cell_type": "code",
      "execution_count": null,
      "metadata": {
        "id": "f8f52c0d"
      },
      "outputs": [],
      "source": [
        "#Printing rows of that particular column\n",
        "null_values = data[data['a(Å)'].isnull()]\n",
        "null_index = null_values.index\n",
        "#print(null_values)\n",
        "print(null_index)"
      ],
      "id": "f8f52c0d"
    },
    {
      "cell_type": "code",
      "execution_count": null,
      "metadata": {
        "id": "962588f2"
      },
      "outputs": [],
      "source": [
        "#finding along rows\n",
        "null_rows = data[data.isnull().any(axis=1)]\n",
        "print(null_rows)"
      ],
      "id": "962588f2"
    },
    {
      "cell_type": "code",
      "execution_count": null,
      "metadata": {
        "id": "cb64a7de"
      },
      "outputs": [],
      "source": [
        "data.duplicated().any()"
      ],
      "id": "cb64a7de"
    },
    {
      "cell_type": "code",
      "execution_count": null,
      "metadata": {
        "id": "c83dff12"
      },
      "outputs": [],
      "source": [
        "duplicate = data[data.duplicated()]\n",
        "print(duplicate)"
      ],
      "id": "c83dff12"
    },
    {
      "cell_type": "code",
      "execution_count": 76,
      "metadata": {
        "id": "0b379fce",
        "outputId": "aee0e7b0-a47b-4198-e425-5ff0e6401484",
        "colab": {
          "base_uri": "https://localhost:8080/"
        }
      },
      "outputs": [
        {
          "output_type": "execute_result",
          "data": {
            "text/plain": [
              "Compound(xyz)    136\n",
              "r x(Å)             7\n",
              "ry(Å)              6\n",
              "rz(Å)              6\n",
              "a(Å)              71\n",
              "ez                 9\n",
              "dtype: int64"
            ]
          },
          "metadata": {},
          "execution_count": 76
        }
      ],
      "source": [
        "#finding non duplicate data\n",
        "data.nunique()"
      ],
      "id": "0b379fce"
    },
    {
      "cell_type": "code",
      "execution_count": null,
      "metadata": {
        "id": "9432e83d"
      },
      "outputs": [],
      "source": [
        "data.columns"
      ],
      "id": "9432e83d"
    },
    {
      "cell_type": "code",
      "execution_count": null,
      "metadata": {
        "id": "ed1043a8"
      },
      "outputs": [],
      "source": [
        "data[['Compound(xyz)','a(Å)']]"
      ],
      "id": "ed1043a8"
    },
    {
      "cell_type": "code",
      "execution_count": null,
      "metadata": {
        "id": "c42c91d9"
      },
      "outputs": [],
      "source": [
        "#knowing tha value at apticular position\n",
        "data['ez'].loc[110]"
      ],
      "id": "c42c91d9"
    },
    {
      "cell_type": "code",
      "execution_count": null,
      "metadata": {
        "id": "b8c283e5"
      },
      "outputs": [],
      "source": [
        "#printing rows\n",
        "data.loc[136]"
      ],
      "id": "b8c283e5"
    },
    {
      "cell_type": "code",
      "execution_count": null,
      "metadata": {
        "id": "992feabb"
      },
      "outputs": [],
      "source": [
        "#matching the values\n",
        "data[data['ez']==2.19]"
      ],
      "id": "992feabb"
    },
    {
      "cell_type": "code",
      "execution_count": null,
      "metadata": {
        "id": "55acd394"
      },
      "outputs": [],
      "source": [
        "data[data['ez']<2.19]"
      ],
      "id": "55acd394"
    },
    {
      "cell_type": "code",
      "execution_count": null,
      "metadata": {
        "id": "317fb28d"
      },
      "outputs": [],
      "source": [
        "#printing columns that corresponds to maximum value of another column\n",
        "data[['a(Å)','ez']][data.ez==data['ez'].max()]"
      ],
      "id": "317fb28d"
    },
    {
      "cell_type": "code",
      "execution_count": null,
      "metadata": {
        "id": "e5a7adc8"
      },
      "outputs": [],
      "source": [
        "#printinng statistical parameter\n",
        "data.ez.mean()"
      ],
      "id": "e5a7adc8"
    },
    {
      "cell_type": "code",
      "execution_count": null,
      "metadata": {
        "id": "c8e0646f"
      },
      "outputs": [],
      "source": [
        "data.ez.max()"
      ],
      "id": "c8e0646f"
    },
    {
      "cell_type": "code",
      "execution_count": null,
      "metadata": {
        "id": "58ec3309"
      },
      "outputs": [],
      "source": [
        "data.describe()"
      ],
      "id": "58ec3309"
    },
    {
      "cell_type": "code",
      "execution_count": null,
      "metadata": {
        "id": "c8dae2f0"
      },
      "outputs": [],
      "source": [
        "#Visulising data\n",
        "# 1. Histogram\n",
        "import seaborn as sns\n",
        "sns.set_style('whitegrid')\n",
        "sns.histplot(data['a(Å)'], bins = 20, color='green',edgecolor='black')\n",
        "plt.xlabel(\"Lattice parameter\")\n",
        "plt.ylabel(\"frequency\")\n",
        "\n",
        "plt.show()"
      ],
      "id": "c8dae2f0"
    },
    {
      "cell_type": "code",
      "execution_count": null,
      "metadata": {
        "id": "0c0999f0"
      },
      "outputs": [],
      "source": [
        "data.boxplot()\n",
        "plt.show()"
      ],
      "id": "0c0999f0"
    },
    {
      "cell_type": "code",
      "execution_count": null,
      "metadata": {
        "id": "d3301d72",
        "scrolled": true
      },
      "outputs": [],
      "source": [
        "sns.heatmap(data.corr(),annot=True,cmap='coolwarm',fmt='.2f',linewidths=0.5)\n",
        "plt.show()"
      ],
      "id": "d3301d72"
    },
    {
      "cell_type": "markdown",
      "metadata": {
        "id": "0570f9a6"
      },
      "source": [
        "## Feature engineering\n",
        "### 1. Labeling features and target"
      ],
      "id": "0570f9a6"
    },
    {
      "cell_type": "code",
      "execution_count": null,
      "metadata": {
        "id": "b1d16055"
      },
      "outputs": [],
      "source": [
        "features = ['r x(Å)', 'ry(Å)', 'rz(Å)', 'a(Å)',]\n",
        "target = data['ez']"
      ],
      "id": "b1d16055"
    },
    {
      "cell_type": "code",
      "execution_count": null,
      "metadata": {
        "id": "001b171e"
      },
      "outputs": [],
      "source": [
        "X = data[features]\n",
        "y = target\n",
        "print(\"shape of X = \",X.shape)\n",
        "print(\"shape of y = \",y.shape)"
      ],
      "id": "001b171e"
    },
    {
      "cell_type": "markdown",
      "metadata": {
        "id": "f677491c"
      },
      "source": [
        "### 2. Feature Selection\n",
        " Random forest algorith is generally used to select proper features for the provided target variables."
      ],
      "id": "f677491c"
    },
    {
      "cell_type": "markdown",
      "metadata": {
        "id": "8e9e6870"
      },
      "source": [
        "### 2. Feature Scalig\n",
        "#### Standard Scaler()"
      ],
      "id": "8e9e6870"
    },
    {
      "cell_type": "code",
      "execution_count": null,
      "metadata": {
        "id": "e3c67714"
      },
      "outputs": [],
      "source": [
        "\n",
        "X_train, X_test, y_train, y_test=train_test_split(X,y,test_size=0.2,random_state=42)"
      ],
      "id": "e3c67714"
    },
    {
      "cell_type": "code",
      "execution_count": null,
      "metadata": {
        "id": "5b0f46dd"
      },
      "outputs": [],
      "source": [
        "print(\"shape of X_train = \",X_train.shape)\n",
        "print(\"shape of X_test = \",X_test.shape)\n",
        "#print(\"shape of y_train = \",y_train.shape)\n",
        "#print(\"shape of y_test = \",X_test.shape)"
      ],
      "id": "5b0f46dd"
    },
    {
      "cell_type": "code",
      "execution_count": null,
      "metadata": {
        "id": "531ada67"
      },
      "outputs": [],
      "source": [],
      "id": "531ada67"
    },
    {
      "cell_type": "code",
      "execution_count": null,
      "metadata": {
        "id": "e79de78f"
      },
      "outputs": [],
      "source": [
        "sc = StandardScaler()\n",
        "sc.fit(X_train)"
      ],
      "id": "e79de78f"
    },
    {
      "cell_type": "code",
      "execution_count": null,
      "metadata": {
        "id": "105ab2ef"
      },
      "outputs": [],
      "source": [
        "#sc.mean_\n",
        "#sc.scale_"
      ],
      "id": "105ab2ef"
    },
    {
      "cell_type": "code",
      "execution_count": null,
      "metadata": {
        "id": "ee96e0cd"
      },
      "outputs": [],
      "source": [],
      "id": "ee96e0cd"
    },
    {
      "cell_type": "code",
      "execution_count": null,
      "metadata": {
        "id": "0c59ab09"
      },
      "outputs": [],
      "source": [
        "X_train_sc = sc.transform(X_train)\n",
        "X_test_sc = sc.transform(X_test)"
      ],
      "id": "0c59ab09"
    },
    {
      "cell_type": "code",
      "execution_count": null,
      "metadata": {
        "id": "156de0df"
      },
      "outputs": [],
      "source": [
        "X_train_sc = pd.DataFrame(X_train_sc, columns = ['r x(Å)', 'ry(Å)', 'rz(Å)', 'a(Å)'])\n",
        "X_test_sc = pd.DataFrame(X_test_sc,columns=['r x(Å)', 'ry(Å)', 'rz(Å)', 'a(Å)'])"
      ],
      "id": "156de0df"
    },
    {
      "cell_type": "code",
      "execution_count": null,
      "metadata": {
        "id": "7989ca29"
      },
      "outputs": [],
      "source": [
        "X_test_sc"
      ],
      "id": "7989ca29"
    },
    {
      "cell_type": "code",
      "execution_count": null,
      "metadata": {
        "id": "10783311"
      },
      "outputs": [],
      "source": [
        "X_train_sc.describe().round(2)"
      ],
      "id": "10783311"
    },
    {
      "cell_type": "code",
      "execution_count": null,
      "metadata": {
        "id": "b5c54ed7"
      },
      "outputs": [],
      "source": [
        "sns.pairplot(X_train)"
      ],
      "id": "b5c54ed7"
    },
    {
      "cell_type": "code",
      "execution_count": null,
      "metadata": {
        "id": "edc4d19a"
      },
      "outputs": [],
      "source": [
        "sns.pairplot(X_train_sc)"
      ],
      "id": "edc4d19a"
    },
    {
      "cell_type": "markdown",
      "metadata": {
        "id": "7fa362ce"
      },
      "source": [
        "### Hyper-parameter optimization\n",
        "#### Gridsearch CV, RandomizedSearch CV, Bayesian Optimization etc.  But, in this case we are taking default values for tutorial purpose. Generally we train test all the models by taking default values and then compare the results to get highly predictive model and then we select those models and perform optimization and then further model tuning."
      ],
      "id": "7fa362ce"
    },
    {
      "cell_type": "markdown",
      "metadata": {
        "id": "5962a372"
      },
      "source": [
        "### Model Tuning\n",
        "## Linear regression model"
      ],
      "id": "5962a372"
    },
    {
      "cell_type": "code",
      "execution_count": null,
      "metadata": {
        "id": "84f82f98"
      },
      "outputs": [],
      "source": [
        "model_lr = LinearRegression()\n",
        "model_lr.fit(X_train_sc, y_train)"
      ],
      "id": "84f82f98"
    },
    {
      "cell_type": "markdown",
      "metadata": {
        "id": "0256d48a"
      },
      "source": [
        "### Making prediction"
      ],
      "id": "0256d48a"
    },
    {
      "cell_type": "code",
      "execution_count": null,
      "metadata": {
        "id": "3fd89c08"
      },
      "outputs": [],
      "source": [
        "y_pred = model_lr.predict(X_test_sc)\n",
        "y_pred_train = model_lr.predict(X_train_sc)\n",
        "print(y_pred)"
      ],
      "id": "3fd89c08"
    },
    {
      "cell_type": "code",
      "execution_count": null,
      "metadata": {
        "id": "e2162f32"
      },
      "outputs": [],
      "source": [
        "print(y_pred_train)"
      ],
      "id": "e2162f32"
    },
    {
      "cell_type": "markdown",
      "metadata": {
        "id": "e9550c48"
      },
      "source": [
        "###  Model evaluation\n"
      ],
      "id": "e9550c48"
    },
    {
      "cell_type": "code",
      "execution_count": null,
      "metadata": {
        "id": "cbd57c0e"
      },
      "outputs": [],
      "source": [
        "mse = mean_squared_error(y_test,y_pred)\n",
        "rmse = np.sqrt(mse)\n",
        "mae = mean_absolute_error(y_test,y_pred)\n",
        "r2 = r2_score(y_test,y_pred)"
      ],
      "id": "cbd57c0e"
    },
    {
      "cell_type": "code",
      "execution_count": null,
      "metadata": {
        "id": "428d92eb"
      },
      "outputs": [],
      "source": [
        "print(f\" The MSE = {mse}\")\n",
        "print(f\" The RMSE = {rmse}\")\n",
        "print(f\" The R2 score = {r2}\")\n",
        "print(f\" The MAE = {mae}\")"
      ],
      "id": "428d92eb"
    },
    {
      "cell_type": "code",
      "execution_count": null,
      "metadata": {
        "id": "b3db7e54"
      },
      "outputs": [],
      "source": [
        "new_features = [1.3,1.8, 2.3, 5.4]\n",
        "new_ez = model_lr.predict([new_features])\n",
        "print(new_ez)"
      ],
      "id": "b3db7e54"
    },
    {
      "cell_type": "markdown",
      "metadata": {
        "id": "e756b6cc"
      },
      "source": [
        "### You can also perform k-Fold validation to validate your result"
      ],
      "id": "e756b6cc"
    },
    {
      "cell_type": "code",
      "execution_count": null,
      "metadata": {
        "id": "2f51f164"
      },
      "outputs": [],
      "source": [
        "from sklearn.model_selection import cross_val_score\n",
        "mse_scorer = make_scorer(mean_squared_error)\n",
        "mse_scores = cross_val_score(model_lr, X_train_sc, y_train, cv=5, scoring=mse_scorer)\n",
        "r2_scorer = make_scorer(r2_score)\n",
        "r2_scores = cross_val_score(model_lr,X_train_sc, y_train, cv =5, scoring=r2_scorer)\n",
        "print(\"Mean-squared error :\", mse_scores)\n",
        "print(\"R2 score :\", r2_scores)"
      ],
      "id": "2f51f164"
    },
    {
      "cell_type": "markdown",
      "metadata": {
        "id": "474b7e4e"
      },
      "source": [
        "### Now test other regression model\n",
        "    Ridge, Kernel Ridge Regressor, Lasso, DecessionTree regressor, Random forest regressor, GradienBoosting regressor, XGB regressor,Gaussian Process regressor"
      ],
      "id": "474b7e4e"
    },
    {
      "cell_type": "markdown",
      "metadata": {
        "id": "910a2de9"
      },
      "source": [
        "### Data Visualisation"
      ],
      "id": "910a2de9"
    },
    {
      "cell_type": "code",
      "execution_count": null,
      "metadata": {
        "id": "a2f9de25"
      },
      "outputs": [],
      "source": [
        "plt.figure(figsize=(10, 6))\n",
        "plt.scatter(y_test, y_pred, color='blue', alpha=0.7, label='Actual vs Predicted (test)')\n",
        "plt.scatter(y_train, y_pred_train, color='green', alpha=0.7, label='Actual vs Predicted (train)')\n",
        "plt.plot(y_test, y_test, color='red', label='Perfect Prediction Line')\n",
        "plt.title('Linear Regression: Actual vs Predicted for ez')\n",
        "plt.xlabel('Actual Values')\n",
        "plt.ylabel('Predicted Values')\n",
        "plt.legend()\n",
        "plt.grid(True)\n",
        "plt.tight_layout()\n",
        "plt.show()"
      ],
      "id": "a2f9de25"
    }
  ],
  "metadata": {
    "colab": {
      "provenance": []
    },
    "kernelspec": {
      "display_name": "Python 3 (ipykernel)",
      "language": "python",
      "name": "python3"
    },
    "language_info": {
      "codemirror_mode": {
        "name": "ipython",
        "version": 3
      },
      "file_extension": ".py",
      "mimetype": "text/x-python",
      "name": "python",
      "nbconvert_exporter": "python",
      "pygments_lexer": "ipython3",
      "version": "3.11.4"
    }
  },
  "nbformat": 4,
  "nbformat_minor": 5
}